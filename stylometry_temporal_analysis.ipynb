{
 "cells": [
  {
   "cell_type": "code",
   "execution_count": 20,
   "metadata": {},
   "outputs": [
    {
     "name": "stderr",
     "output_type": "stream",
     "text": [
      "Using custom data configuration full-cd953a8279053968\n",
      "Reusing dataset ik_nlp22_pe_style (C:\\Users\\amit\\.cache\\huggingface\\datasets\\GroNLP___ik_nlp22_pe_style\\full-cd953a8279053968\\1.0.0\\3bbf0fda4806257149c2beb42c6cd20db6f79dac9ae2498f44be55fa7a953d51)\n"
     ]
    },
    {
     "data": {
      "application/vnd.jupyter.widget-view+json": {
       "model_id": "6a1e6009ce884567a8204703d270a296",
       "version_major": 2,
       "version_minor": 0
      },
      "text/plain": [
       "  0%|          | 0/1 [00:00<?, ?it/s]"
      ]
     },
     "metadata": {},
     "output_type": "display_data"
    }
   ],
   "source": [
    "from datasets import load_dataset\n",
    "\n",
    "dataset = load_dataset(\"GroNLP/ik-nlp-22_pestyle\", \"full\", data_dir=\"Z:/Study/II a/Natural Language Processing/Assignments/A study in Post-Editing Stylometry/Code/dataset/IK_NLP_22_PESTYLE\")"
   ]
  },
  {
   "cell_type": "code",
   "execution_count": 21,
   "metadata": {},
   "outputs": [
    {
     "name": "stdout",
     "output_type": "stream",
     "text": [
      "DatasetDict({\n",
      "    train: Dataset({\n",
      "        features: ['item_id', 'subject_id', 'modality', 'src_text', 'mt_text', 'tgt_text', 'edit_time', 'k_total', 'k_letter', 'k_digit', 'k_white', 'k_symbol', 'k_nav', 'k_erase', 'k_copy', 'k_cut', 'k_paste', 'n_pause_geq_300', 'len_pause_geq_300', 'n_pause_geq_1000', 'len_pause_geq_1000', 'num_annotations', 'n_insert', 'n_delete', 'n_substitute', 'n_shift', 'bleu', 'chrf', 'ter', 'aligned_edit'],\n",
      "        num_rows: 1170\n",
      "    })\n",
      "})\n"
     ]
    }
   ],
   "source": [
    "print(dataset)"
   ]
  },
  {
   "cell_type": "code",
   "execution_count": 22,
   "metadata": {},
   "outputs": [
    {
     "data": {
      "text/plain": [
       "{'train': (1170, 30)}"
      ]
     },
     "execution_count": 22,
     "metadata": {},
     "output_type": "execute_result"
    }
   ],
   "source": [
    "dataset.shape"
   ]
  },
  {
   "cell_type": "code",
   "execution_count": 23,
   "metadata": {},
   "outputs": [],
   "source": [
    "squad_train = dataset[\"train\"]"
   ]
  },
  {
   "cell_type": "code",
   "execution_count": 24,
   "metadata": {},
   "outputs": [
    {
     "data": {
      "text/plain": [
       "{'item_id': 23,\n",
       " 'subject_id': 't1',\n",
       " 'modality': 'pe1',\n",
       " 'src_text': 'Segregation and recombination shuffle variation back and forth between the two pools with each generation.',\n",
       " 'mt_text': 'La segregazione e la ricombinazione mescolano la variazione avanti e indietro tra i due pool ad ogni generazione.',\n",
       " 'tgt_text': 'La segregazione e la ricombinazione mescolano di continuo la variazione tra i due gruppi ad ogni generazione.',\n",
       " 'edit_time': 94.28399658203125,\n",
       " 'k_total': 33,\n",
       " 'k_letter': 17,\n",
       " 'k_digit': 0,\n",
       " 'k_white': 2,\n",
       " 'k_symbol': 0,\n",
       " 'k_nav': 0,\n",
       " 'k_erase': 14,\n",
       " 'k_copy': 0,\n",
       " 'k_cut': 0,\n",
       " 'k_paste': 0,\n",
       " 'n_pause_geq_300': 7,\n",
       " 'len_pause_geq_300': 74117,\n",
       " 'n_pause_geq_1000': 5,\n",
       " 'len_pause_geq_1000': 72882,\n",
       " 'num_annotations': 1,\n",
       " 'n_insert': 0.0,\n",
       " 'n_delete': 1.0,\n",
       " 'n_substitute': 3.0,\n",
       " 'n_shift': 1.0,\n",
       " 'bleu': 47.380001068115234,\n",
       " 'chrf': 76.06999969482422,\n",
       " 'ter': 27.777999877929688,\n",
       " 'aligned_edit': 'REF:  la segregazione e la ricombinazione mescolano   la variazione   avanti e  indietro   tra i due pool   ad ogni generazione.\\\\nHYP:  la segregazione e la ricombinazione mescolano [ la variazione ] ****** di continuo @ tra i due gruppi ad ogni generazione.\\\\nEVAL:                                                                 D      S  S                    S'}"
      ]
     },
     "execution_count": 24,
     "metadata": {},
     "output_type": "execute_result"
    }
   ],
   "source": [
    "squad_train[21]"
   ]
  },
  {
   "cell_type": "code",
   "execution_count": 25,
   "metadata": {},
   "outputs": [],
   "source": [
    "total_words_t1_ht = []\n",
    "total_words_t1_pe1 = []\n",
    "total_words_t1_pe2 = []\n",
    "total_words_t2_ht = []\n",
    "total_words_t2_pe1 = []\n",
    "total_words_t2_pe2 = []\n",
    "total_words_t3_ht = []\n",
    "total_words_t3_pe1 = []\n",
    "total_words_t3_pe2 = []\n",
    "total_edit_times_t1_ht = 0\n",
    "total_edit_times_t1_pe1 = 0\n",
    "total_edit_times_t1_pe2 = 0\n",
    "total_edit_times_t2_ht = 0\n",
    "total_edit_times_t2_pe1 = 0\n",
    "total_edit_times_t2_pe2 = 0\n",
    "total_edit_times_t3_ht = 0\n",
    "total_edit_times_t3_pe1 = 0\n",
    "total_edit_times_t3_pe2 = 0\n",
    "count_edit_t1_ht = 0\n",
    "count_edit_t1_pe1 = 0\n",
    "count_edit_t1_pe2 = 0\n",
    "count_edit_t2_ht = 0\n",
    "count_edit_t2_pe1 = 0\n",
    "count_edit_t2_pe2 = 0\n",
    "count_edit_t3_ht = 0\n",
    "count_edit_t3_pe1 = 0\n",
    "count_edit_t3_pe2 = 0\n",
    "import nltk\n",
    "%matplotlib inline"
   ]
  },
  {
   "cell_type": "code",
   "execution_count": 27,
   "metadata": {},
   "outputs": [],
   "source": [
    "for i in squad_train:\n",
    "  if(i[\"subject_id\"] == \"t1\"):\n",
    "    if(i[\"modality\"] == \"ht\"):\n",
    "      #c = i[\"aligned_edit\"].split(\"EVAL:\")[1]\n",
    "      #for k in c:\n",
    "            #if k.isalpha():\n",
    "                #count_t1_ht = count_t1_ht + 1\n",
    "      total_words_t1_ht +=  nltk.word_tokenize(i[\"tgt_text\"])\n",
    "      total_edit_times_t1_ht += i[\"edit_time\"]/3600\n",
    "    elif(i[\"modality\"] == \"pe1\"):\n",
    "      total_words_t1_pe1 += nltk.word_tokenize(i[\"tgt_text\"])\n",
    "      total_edit_times_t1_pe1 += i[\"edit_time\"]/3600\n",
    "    elif(i[\"modality\"] == \"pe2\"):\n",
    "      total_words_t1_pe2 += nltk.word_tokenize(i[\"tgt_text\"])\n",
    "      total_edit_times_t1_pe2 += i[\"edit_time\"]/3600 \n",
    "  elif(i[\"subject_id\"] == \"t2\"):\n",
    "    if(i[\"modality\"] == \"ht\"):\n",
    "      total_words_t2_ht += nltk.word_tokenize(i[\"tgt_text\"])\n",
    "      total_edit_times_t2_ht += i[\"edit_time\"]/3600\n",
    "    elif(i[\"modality\"] == \"pe1\"):\n",
    "      total_words_t2_pe1 += nltk.word_tokenize(i[\"tgt_text\"])\n",
    "      total_edit_times_t2_pe1 += i[\"edit_time\"]/3600      \n",
    "    elif(i[\"modality\"] == \"pe2\"):\n",
    "      total_words_t2_pe2 += nltk.word_tokenize(i[\"tgt_text\"])\n",
    "      total_edit_times_t2_pe2 += i[\"edit_time\"]/3600\n",
    "  elif(i[\"subject_id\"] == \"t3\"):\n",
    "    if(i[\"modality\"] == \"ht\"):\n",
    "      total_words_t3_ht += nltk.word_tokenize(i[\"tgt_text\"])\n",
    "      total_edit_times_t3_ht += i[\"edit_time\"]/3600      \n",
    "    elif(i[\"modality\"] == \"pe1\"):\n",
    "      total_words_t3_pe1 += nltk.word_tokenize(i[\"tgt_text\"])\n",
    "      total_edit_times_t3_pe1 += i[\"edit_time\"]/3600\n",
    "    elif(i[\"modality\"] == \"pe2\"):\n",
    "      total_words_t3_pe2 += nltk.word_tokenize(i[\"tgt_text\"])\n",
    "      total_edit_times_t3_pe2 += i[\"edit_time\"]/3600"
   ]
  },
  {
   "cell_type": "code",
   "execution_count": 28,
   "metadata": {},
   "outputs": [
    {
     "data": {
      "image/png": "[encoded data removed]",
      "text/plain": [
       "<Figure size 864x576 with 1 Axes>"
      ]
     },
     "metadata": {
      "needs_background": "light"
     },
     "output_type": "display_data"
    }
   ],
   "source": [
    "import numpy as np\n",
    "import matplotlib.pyplot as plt\n",
    " \n",
    "# set width of bar\n",
    "barWidth = 0.25\n",
    "fig = plt.subplots(figsize =(12, 8))\n",
    " \n",
    "# set height of bar\n",
    "HT = [total_edit_times_t1_ht, total_edit_times_t2_ht, total_edit_times_t3_ht]\n",
    "PE1 = [total_edit_times_t1_pe1, total_edit_times_t2_pe1, total_edit_times_t3_pe1]\n",
    "PE2 = [total_edit_times_t1_pe2, total_edit_times_t2_pe2, total_edit_times_t3_pe2]\n",
    " \n",
    "# Set position of bar on X axis\n",
    "br1 = np.arange(len(HT))\n",
    "br2 = [x + barWidth for x in br1]\n",
    "br3 = [x + barWidth for x in br2]\n",
    " \n",
    "# Make the plot\n",
    "plt.bar(br1, HT, color ='r', width = barWidth,\n",
    "        edgecolor ='grey', label ='HT')\n",
    "plt.bar(br2, PE1, color ='g', width = barWidth,\n",
    "        edgecolor ='grey', label ='PE1')\n",
    "plt.bar(br3, PE2, color ='b', width = barWidth,\n",
    "        edgecolor ='grey', label ='PE2')\n",
    " \n",
    "# Adding Xticks\n",
    "plt.xlabel('Translator', fontweight ='bold', fontsize = 15)\n",
    "plt.title(\"Total edit_times by Translators per hour\")\n",
    "plt.ylabel('Edit time per Hour', fontweight ='bold', fontsize = 15)\n",
    "plt.xticks([r + barWidth for r in range(len(HT))],\n",
    "        ['T1', 'T2', 'T3'])\n",
    " \n",
    "plt.legend()\n",
    "plt.show()"
   ]
  },
  {
   "cell_type": "code",
   "execution_count": 29,
   "metadata": {},
   "outputs": [
    {
     "data": {
      "image/png": "[encoded data removed]",
      "text/plain": [
       "<Figure size 864x576 with 1 Axes>"
      ]
     },
     "metadata": {
      "needs_background": "light"
     },
     "output_type": "display_data"
    }
   ],
   "source": [
    "# set width of bar\n",
    "barWidth = 0.25\n",
    "fig = plt.subplots(figsize =(12, 8))\n",
    " \n",
    "# set height of bar\n",
    "HT = [len(total_words_t1_ht)/total_edit_times_t1_ht, len(total_words_t2_ht)/ total_edit_times_t2_ht, len(total_words_t3_ht)/ total_edit_times_t3_ht]\n",
    "PE1 = [len(total_words_t1_pe1)/total_edit_times_t1_pe1, len(total_words_t2_pe1)/ total_edit_times_t2_pe1, len(total_words_t3_pe1)/ total_edit_times_t3_pe1]\n",
    "PE2 = [len(total_words_t1_pe2)/total_edit_times_t1_pe2, len(total_words_t2_pe2)/total_edit_times_t2_pe2, len(total_words_t3_pe2)/total_edit_times_t3_pe2]\n",
    " \n",
    "# Set position of bar on X axis\n",
    "br1 = np.arange(len(HT))\n",
    "br2 = [x + barWidth for x in br1]\n",
    "br3 = [x + barWidth for x in br2]\n",
    " \n",
    "# Make the plot\n",
    "plt.bar(br1, HT, color ='r', width = barWidth,\n",
    "        edgecolor ='grey', label ='HT')\n",
    "plt.bar(br2, PE1, color ='g', width = barWidth,\n",
    "        edgecolor ='grey', label ='PE1')\n",
    "plt.bar(br3, PE2, color ='b', width = barWidth,\n",
    "        edgecolor ='grey', label ='PE2')\n",
    " \n",
    "# Adding Xticks\n",
    "plt.xlabel('Translator', fontweight ='bold', fontsize = 15)\n",
    "plt.title(\"Total words_per_hour by Translators per modality\")\n",
    "plt.ylabel('Words_per_hour per modality', fontweight ='bold', fontsize = 15)\n",
    "plt.xticks([r + barWidth for r in range(len(HT))],\n",
    "        ['T1', 'T2', 'T3'])\n",
    " \n",
    "plt.legend()\n",
    "plt.show()"
   ]
  },
  {
   "cell_type": "code",
   "execution_count": 38,
   "metadata": {},
   "outputs": [
    {
     "data": {
      "image/png": "[encoded data removed]",
      "text/plain": [
       "<Figure size 864x576 with 1 Axes>"
      ]
     },
     "metadata": {
      "needs_background": "light"
     },
     "output_type": "display_data"
    }
   ],
   "source": [
    "# set width of bar\n",
    "barWidth = 0.25\n",
    "fig = plt.subplots(figsize =(12, 8))\n",
    " \n",
    "# set height of bar\n",
    "HT = [len(np.unique(total_words_t1_ht)), len(np.unique(total_words_t2_ht)), len(np.unique(total_words_t3_ht))]\n",
    "PE1 = [len(np.unique(total_words_t1_pe1)), len(np.unique(total_words_t2_pe1)), len(np.unique(total_words_t3_pe1))]\n",
    "PE2 = [len(np.unique(total_words_t1_pe2)), len(np.unique(total_words_t2_pe2)), len(np.unique(total_words_t3_pe2))]\n",
    " \n",
    "# Set position of bar on X axis\n",
    "br1 = np.arange(len(HT))\n",
    "br2 = [x + barWidth for x in br1]\n",
    "br3 = [x + barWidth for x in br2]\n",
    " \n",
    "# Make the plot\n",
    "plt.bar(br1, HT, color ='r', width = barWidth,\n",
    "        edgecolor ='grey', label ='HT')\n",
    "plt.bar(br2, PE1, color ='g', width = barWidth,\n",
    "        edgecolor ='grey', label ='PE1')\n",
    "plt.bar(br3, PE2, color ='b', width = barWidth,\n",
    "        edgecolor ='grey', label ='PE2')\n",
    " \n",
    "# Adding Xticks\n",
    "plt.xlabel('Translator', fontweight ='bold', fontsize = 15)\n",
    "plt.title(\"Total unique words_per_modality\")\n",
    "plt.ylabel('Unique Words_per_modality', fontweight ='bold', fontsize = 15)\n",
    "plt.xticks([r + barWidth for r in range(len(HT))],\n",
    "        ['T1', 'T2', 'T3'])\n",
    " \n",
    "plt.legend()\n",
    "plt.show()"
   ]
  },
  {
   "cell_type": "code",
   "execution_count": null,
   "metadata": {},
   "outputs": [],
   "source": []
  },
  {
   "cell_type": "markdown",
   "metadata": {},
   "source": [
    " tokens = nltk.word_tokenize(federalist_by_author[author])\n",
    "\n",
    "    # Filter out punctuation\n",
    "    federalist_by_author_tokens[author] = ([token for token in tokens\n",
    "                                            if any(c.isalpha() for c in token)])"
   ]
  },
  {
   "cell_type": "code",
   "execution_count": null,
   "metadata": {},
   "outputs": [],
   "source": [
    "count_t1_ht = 0\n",
    "c = squad_train[21][\"aligned_edit\"].split(\"EVAL:\")[1]\n"
   ]
  },
  {
   "cell_type": "code",
   "execution_count": null,
   "metadata": {},
   "outputs": [],
   "source": [
    "count_t1_ht = 0\n",
    "for i in c:\n",
    "    if i.isalpha():\n",
    "        count_t1_ht = count_t1_ht + 1\n",
    "print(count_t1_ht)"
   ]
  },
  {
   "cell_type": "code",
   "execution_count": null,
   "metadata": {},
   "outputs": [],
   "source": [
    "squad_train[0][\"aligned_edit\"].split(\"EVAL:\")[1]"
   ]
  },
  {
   "cell_type": "code",
   "execution_count": 35,
   "metadata": {},
   "outputs": [
    {
     "data": {
      "text/plain": [
       "3992"
      ]
     },
     "execution_count": 35,
     "metadata": {},
     "output_type": "execute_result"
    }
   ],
   "source": [
    "len((total_words_t1_ht))"
   ]
  },
  {
   "cell_type": "code",
   "execution_count": null,
   "metadata": {},
   "outputs": [],
   "source": []
  },
  {
   "cell_type": "code",
   "execution_count": null,
   "metadata": {},
   "outputs": [],
   "source": []
  },
  {
   "cell_type": "code",
   "execution_count": null,
   "metadata": {},
   "outputs": [],
   "source": []
  },
  {
   "cell_type": "code",
   "execution_count": null,
   "metadata": {},
   "outputs": [],
   "source": []
  }
 ],
 "metadata": {
  "kernelspec": {
   "display_name": "Python 3",
   "language": "python",
   "name": "python3"
  },
  "language_info": {
   "codemirror_mode": {
    "name": "ipython",
    "version": 3
   },
   "file_extension": ".py",
   "mimetype": "text/x-python",
   "name": "python",
   "nbconvert_exporter": "python",
   "pygments_lexer": "ipython3",
   "version": "3.8.3"
  }
 },
 "nbformat": 4,
 "nbformat_minor": 4
}
