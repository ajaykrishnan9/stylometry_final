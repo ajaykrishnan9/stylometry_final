{
  "nbformat": 4,
  "nbformat_minor": 0,
  "metadata": {
    "colab": {
      "name": "stylometry_technical_analysis.ipynb",
      "provenance": [],
      "collapsed_sections": []
    },
    "kernelspec": {
      "name": "python3",
      "display_name": "Python 3"
    },
    "language_info": {
      "name": "python"
    },
    "widgets": {
      "application/vnd.jupyter.widget-state+json": {
        "24ae290e999b4ea1996e655273eac7d8": {
          "model_module": "@jupyter-widgets/controls",
          "model_name": "HBoxModel",
          "model_module_version": "1.5.0",
          "state": {
            "_dom_classes": [],
            "_model_module": "@jupyter-widgets/controls",
            "_model_module_version": "1.5.0",
            "_model_name": "HBoxModel",
            "_view_count": null,
            "_view_module": "@jupyter-widgets/controls",
            "_view_module_version": "1.5.0",
            "_view_name": "HBoxView",
            "box_style": "",
            "children": [
              "IPY_MODEL_835ed464c7d14df7ac18325d20fdda14",
              "IPY_MODEL_e3671cdee79e402287f239ffc4114bdf",
              "IPY_MODEL_70198b5e5e9e4e8d85d1ba0f8784bc78"
            ],
            "layout": "IPY_MODEL_b1f726fffc2040f3b2802a54139f22b6"
          }
        },
        "835ed464c7d14df7ac18325d20fdda14": {
          "model_module": "@jupyter-widgets/controls",
          "model_name": "HTMLModel",
          "model_module_version": "1.5.0",
          "state": {
            "_dom_classes": [],
            "_model_module": "@jupyter-widgets/controls",
            "_model_module_version": "1.5.0",
            "_model_name": "HTMLModel",
            "_view_count": null,
            "_view_module": "@jupyter-widgets/controls",
            "_view_module_version": "1.5.0",
            "_view_name": "HTMLView",
            "description": "",
            "description_tooltip": null,
            "layout": "IPY_MODEL_dd894a4dc2c84b4892fede4f0b2ddf2c",
            "placeholder": "​",
            "style": "IPY_MODEL_cdd4437fb6b748fca270c20509e18a65",
            "value": "100%"
          }
        },
        "e3671cdee79e402287f239ffc4114bdf": {
          "model_module": "@jupyter-widgets/controls",
          "model_name": "FloatProgressModel",
          "model_module_version": "1.5.0",
          "state": {
            "_dom_classes": [],
            "_model_module": "@jupyter-widgets/controls",
            "_model_module_version": "1.5.0",
            "_model_name": "FloatProgressModel",
            "_view_count": null,
            "_view_module": "@jupyter-widgets/controls",
            "_view_module_version": "1.5.0",
            "_view_name": "ProgressView",
            "bar_style": "success",
            "description": "",
            "description_tooltip": null,
            "layout": "IPY_MODEL_f00694ee85534e26b3ec45d6d2c78be5",
            "max": 1,
            "min": 0,
            "orientation": "horizontal",
            "style": "IPY_MODEL_d5d226a220164fc9b631cfe2e045d1ad",
            "value": 1
          }
        },
        "70198b5e5e9e4e8d85d1ba0f8784bc78": {
          "model_module": "@jupyter-widgets/controls",
          "model_name": "HTMLModel",
          "model_module_version": "1.5.0",
          "state": {
            "_dom_classes": [],
            "_model_module": "@jupyter-widgets/controls",
            "_model_module_version": "1.5.0",
            "_model_name": "HTMLModel",
            "_view_count": null,
            "_view_module": "@jupyter-widgets/controls",
            "_view_module_version": "1.5.0",
            "_view_name": "HTMLView",
            "description": "",
            "description_tooltip": null,
            "layout": "IPY_MODEL_694b6bd576654ba998bbba1e1084c03e",
            "placeholder": "​",
            "style": "IPY_MODEL_35a32c486f00453cb32ce243afcf5285",
            "value": " 1/1 [00:00&lt;00:00, 16.89it/s]"
          }
        },
        "b1f726fffc2040f3b2802a54139f22b6": {
          "model_module": "@jupyter-widgets/base",
          "model_name": "LayoutModel",
          "model_module_version": "1.2.0",
          "state": {
            "_model_module": "@jupyter-widgets/base",
            "_model_module_version": "1.2.0",
            "_model_name": "LayoutModel",
            "_view_count": null,
            "_view_module": "@jupyter-widgets/base",
            "_view_module_version": "1.2.0",
            "_view_name": "LayoutView",
            "align_content": null,
            "align_items": null,
            "align_self": null,
            "border": null,
            "bottom": null,
            "display": null,
            "flex": null,
            "flex_flow": null,
            "grid_area": null,
            "grid_auto_columns": null,
            "grid_auto_flow": null,
            "grid_auto_rows": null,
            "grid_column": null,
            "grid_gap": null,
            "grid_row": null,
            "grid_template_areas": null,
            "grid_template_columns": null,
            "grid_template_rows": null,
            "height": null,
            "justify_content": null,
            "justify_items": null,
            "left": null,
            "margin": null,
            "max_height": null,
            "max_width": null,
            "min_height": null,
            "min_width": null,
            "object_fit": null,
            "object_position": null,
            "order": null,
            "overflow": null,
            "overflow_x": null,
            "overflow_y": null,
            "padding": null,
            "right": null,
            "top": null,
            "visibility": null,
            "width": null
          }
        },
        "dd894a4dc2c84b4892fede4f0b2ddf2c": {
          "model_module": "@jupyter-widgets/base",
          "model_name": "LayoutModel",
          "model_module_version": "1.2.0",
          "state": {
            "_model_module": "@jupyter-widgets/base",
            "_model_module_version": "1.2.0",
            "_model_name": "LayoutModel",
            "_view_count": null,
            "_view_module": "@jupyter-widgets/base",
            "_view_module_version": "1.2.0",
            "_view_name": "LayoutView",
            "align_content": null,
            "align_items": null,
            "align_self": null,
            "border": null,
            "bottom": null,
            "display": null,
            "flex": null,
            "flex_flow": null,
            "grid_area": null,
            "grid_auto_columns": null,
            "grid_auto_flow": null,
            "grid_auto_rows": null,
            "grid_column": null,
            "grid_gap": null,
            "grid_row": null,
            "grid_template_areas": null,
            "grid_template_columns": null,
            "grid_template_rows": null,
            "height": null,
            "justify_content": null,
            "justify_items": null,
            "left": null,
            "margin": null,
            "max_height": null,
            "max_width": null,
            "min_height": null,
            "min_width": null,
            "object_fit": null,
            "object_position": null,
            "order": null,
            "overflow": null,
            "overflow_x": null,
            "overflow_y": null,
            "padding": null,
            "right": null,
            "top": null,
            "visibility": null,
            "width": null
          }
        },
        "cdd4437fb6b748fca270c20509e18a65": {
          "model_module": "@jupyter-widgets/controls",
          "model_name": "DescriptionStyleModel",
          "model_module_version": "1.5.0",
          "state": {
            "_model_module": "@jupyter-widgets/controls",
            "_model_module_version": "1.5.0",
            "_model_name": "DescriptionStyleModel",
            "_view_count": null,
            "_view_module": "@jupyter-widgets/base",
            "_view_module_version": "1.2.0",
            "_view_name": "StyleView",
            "description_width": ""
          }
        },
        "f00694ee85534e26b3ec45d6d2c78be5": {
          "model_module": "@jupyter-widgets/base",
          "model_name": "LayoutModel",
          "model_module_version": "1.2.0",
          "state": {
            "_model_module": "@jupyter-widgets/base",
            "_model_module_version": "1.2.0",
            "_model_name": "LayoutModel",
            "_view_count": null,
            "_view_module": "@jupyter-widgets/base",
            "_view_module_version": "1.2.0",
            "_view_name": "LayoutView",
            "align_content": null,
            "align_items": null,
            "align_self": null,
            "border": null,
            "bottom": null,
            "display": null,
            "flex": null,
            "flex_flow": null,
            "grid_area": null,
            "grid_auto_columns": null,
            "grid_auto_flow": null,
            "grid_auto_rows": null,
            "grid_column": null,
            "grid_gap": null,
            "grid_row": null,
            "grid_template_areas": null,
            "grid_template_columns": null,
            "grid_template_rows": null,
            "height": null,
            "justify_content": null,
            "justify_items": null,
            "left": null,
            "margin": null,
            "max_height": null,
            "max_width": null,
            "min_height": null,
            "min_width": null,
            "object_fit": null,
            "object_position": null,
            "order": null,
            "overflow": null,
            "overflow_x": null,
            "overflow_y": null,
            "padding": null,
            "right": null,
            "top": null,
            "visibility": null,
            "width": null
          }
        },
        "d5d226a220164fc9b631cfe2e045d1ad": {
          "model_module": "@jupyter-widgets/controls",
          "model_name": "ProgressStyleModel",
          "model_module_version": "1.5.0",
          "state": {
            "_model_module": "@jupyter-widgets/controls",
            "_model_module_version": "1.5.0",
            "_model_name": "ProgressStyleModel",
            "_view_count": null,
            "_view_module": "@jupyter-widgets/base",
            "_view_module_version": "1.2.0",
            "_view_name": "StyleView",
            "bar_color": null,
            "description_width": ""
          }
        },
        "694b6bd576654ba998bbba1e1084c03e": {
          "model_module": "@jupyter-widgets/base",
          "model_name": "LayoutModel",
          "model_module_version": "1.2.0",
          "state": {
            "_model_module": "@jupyter-widgets/base",
            "_model_module_version": "1.2.0",
            "_model_name": "LayoutModel",
            "_view_count": null,
            "_view_module": "@jupyter-widgets/base",
            "_view_module_version": "1.2.0",
            "_view_name": "LayoutView",
            "align_content": null,
            "align_items": null,
            "align_self": null,
            "border": null,
            "bottom": null,
            "display": null,
            "flex": null,
            "flex_flow": null,
            "grid_area": null,
            "grid_auto_columns": null,
            "grid_auto_flow": null,
            "grid_auto_rows": null,
            "grid_column": null,
            "grid_gap": null,
            "grid_row": null,
            "grid_template_areas": null,
            "grid_template_columns": null,
            "grid_template_rows": null,
            "height": null,
            "justify_content": null,
            "justify_items": null,
            "left": null,
            "margin": null,
            "max_height": null,
            "max_width": null,
            "min_height": null,
            "min_width": null,
            "object_fit": null,
            "object_position": null,
            "order": null,
            "overflow": null,
            "overflow_x": null,
            "overflow_y": null,
            "padding": null,
            "right": null,
            "top": null,
            "visibility": null,
            "width": null
          }
        },
        "35a32c486f00453cb32ce243afcf5285": {
          "model_module": "@jupyter-widgets/controls",
          "model_name": "DescriptionStyleModel",
          "model_module_version": "1.5.0",
          "state": {
            "_model_module": "@jupyter-widgets/controls",
            "_model_module_version": "1.5.0",
            "_model_name": "DescriptionStyleModel",
            "_view_count": null,
            "_view_module": "@jupyter-widgets/base",
            "_view_module_version": "1.2.0",
            "_view_name": "StyleView",
            "description_width": ""
          }
        }
      }
    }
  },
  "cells": [
    {
      "cell_type": "code",
      "source": [
        "pip install datasets"
      ],
      "metadata": {
        "id": "24nl-feovOei",
        "colab": {
          "base_uri": "https://localhost:8080/"
        },
        "outputId": "115da1ac-60e0-416e-b65b-60afc70a61ea"
      },
      "execution_count": 8,
      "outputs": [
        {
          "output_type": "stream",
          "name": "stdout",
          "text": [
            "Requirement already satisfied: datasets in /usr/local/lib/python3.7/dist-packages (2.0.0)\n",
            "Requirement already satisfied: xxhash in /usr/local/lib/python3.7/dist-packages (from datasets) (3.0.0)\n",
            "Requirement already satisfied: dill in /usr/local/lib/python3.7/dist-packages (from datasets) (0.3.4)\n",
            "Requirement already satisfied: aiohttp in /usr/local/lib/python3.7/dist-packages (from datasets) (3.8.1)\n",
            "Requirement already satisfied: requests>=2.19.0 in /usr/local/lib/python3.7/dist-packages (from datasets) (2.23.0)\n",
            "Requirement already satisfied: responses<0.19 in /usr/local/lib/python3.7/dist-packages (from datasets) (0.18.0)\n",
            "Requirement already satisfied: pandas in /usr/local/lib/python3.7/dist-packages (from datasets) (1.3.5)\n",
            "Requirement already satisfied: tqdm>=4.62.1 in /usr/local/lib/python3.7/dist-packages (from datasets) (4.63.0)\n",
            "Requirement already satisfied: pyarrow>=5.0.0 in /usr/local/lib/python3.7/dist-packages (from datasets) (6.0.1)\n",
            "Requirement already satisfied: numpy>=1.17 in /usr/local/lib/python3.7/dist-packages (from datasets) (1.21.5)\n",
            "Requirement already satisfied: fsspec[http]>=2021.05.0 in /usr/local/lib/python3.7/dist-packages (from datasets) (2022.2.0)\n",
            "Requirement already satisfied: multiprocess in /usr/local/lib/python3.7/dist-packages (from datasets) (0.70.12.2)\n",
            "Requirement already satisfied: packaging in /usr/local/lib/python3.7/dist-packages (from datasets) (21.3)\n",
            "Requirement already satisfied: huggingface-hub<1.0.0,>=0.1.0 in /usr/local/lib/python3.7/dist-packages (from datasets) (0.4.0)\n",
            "Requirement already satisfied: importlib-metadata in /usr/local/lib/python3.7/dist-packages (from datasets) (4.11.3)\n",
            "Requirement already satisfied: pyyaml in /usr/local/lib/python3.7/dist-packages (from huggingface-hub<1.0.0,>=0.1.0->datasets) (3.13)\n",
            "Requirement already satisfied: filelock in /usr/local/lib/python3.7/dist-packages (from huggingface-hub<1.0.0,>=0.1.0->datasets) (3.6.0)\n",
            "Requirement already satisfied: typing-extensions>=3.7.4.3 in /usr/local/lib/python3.7/dist-packages (from huggingface-hub<1.0.0,>=0.1.0->datasets) (3.10.0.2)\n",
            "Requirement already satisfied: pyparsing!=3.0.5,>=2.0.2 in /usr/local/lib/python3.7/dist-packages (from packaging->datasets) (3.0.7)\n",
            "Requirement already satisfied: certifi>=2017.4.17 in /usr/local/lib/python3.7/dist-packages (from requests>=2.19.0->datasets) (2021.10.8)\n",
            "Requirement already satisfied: urllib3!=1.25.0,!=1.25.1,<1.26,>=1.21.1 in /usr/local/lib/python3.7/dist-packages (from requests>=2.19.0->datasets) (1.25.11)\n",
            "Requirement already satisfied: idna<3,>=2.5 in /usr/local/lib/python3.7/dist-packages (from requests>=2.19.0->datasets) (2.10)\n",
            "Requirement already satisfied: chardet<4,>=3.0.2 in /usr/local/lib/python3.7/dist-packages (from requests>=2.19.0->datasets) (3.0.4)\n",
            "Requirement already satisfied: multidict<7.0,>=4.5 in /usr/local/lib/python3.7/dist-packages (from aiohttp->datasets) (6.0.2)\n",
            "Requirement already satisfied: asynctest==0.13.0 in /usr/local/lib/python3.7/dist-packages (from aiohttp->datasets) (0.13.0)\n",
            "Requirement already satisfied: yarl<2.0,>=1.0 in /usr/local/lib/python3.7/dist-packages (from aiohttp->datasets) (1.7.2)\n",
            "Requirement already satisfied: async-timeout<5.0,>=4.0.0a3 in /usr/local/lib/python3.7/dist-packages (from aiohttp->datasets) (4.0.2)\n",
            "Requirement already satisfied: frozenlist>=1.1.1 in /usr/local/lib/python3.7/dist-packages (from aiohttp->datasets) (1.3.0)\n",
            "Requirement already satisfied: aiosignal>=1.1.2 in /usr/local/lib/python3.7/dist-packages (from aiohttp->datasets) (1.2.0)\n",
            "Requirement already satisfied: attrs>=17.3.0 in /usr/local/lib/python3.7/dist-packages (from aiohttp->datasets) (21.4.0)\n",
            "Requirement already satisfied: charset-normalizer<3.0,>=2.0 in /usr/local/lib/python3.7/dist-packages (from aiohttp->datasets) (2.0.12)\n",
            "Requirement already satisfied: zipp>=0.5 in /usr/local/lib/python3.7/dist-packages (from importlib-metadata->datasets) (3.7.0)\n",
            "Requirement already satisfied: python-dateutil>=2.7.3 in /usr/local/lib/python3.7/dist-packages (from pandas->datasets) (2.8.2)\n",
            "Requirement already satisfied: pytz>=2017.3 in /usr/local/lib/python3.7/dist-packages (from pandas->datasets) (2018.9)\n",
            "Requirement already satisfied: six>=1.5 in /usr/local/lib/python3.7/dist-packages (from python-dateutil>=2.7.3->pandas->datasets) (1.15.0)\n"
          ]
        }
      ]
    },
    {
      "cell_type": "code",
      "execution_count": 9,
      "metadata": {
        "colab": {
          "base_uri": "https://localhost:8080/",
          "height": 104,
          "referenced_widgets": [
            "24ae290e999b4ea1996e655273eac7d8",
            "835ed464c7d14df7ac18325d20fdda14",
            "e3671cdee79e402287f239ffc4114bdf",
            "70198b5e5e9e4e8d85d1ba0f8784bc78",
            "b1f726fffc2040f3b2802a54139f22b6",
            "dd894a4dc2c84b4892fede4f0b2ddf2c",
            "cdd4437fb6b748fca270c20509e18a65",
            "f00694ee85534e26b3ec45d6d2c78be5",
            "d5d226a220164fc9b631cfe2e045d1ad",
            "694b6bd576654ba998bbba1e1084c03e",
            "35a32c486f00453cb32ce243afcf5285"
          ]
        },
        "id": "NrkkoFEXtZZD",
        "outputId": "89749599-b2a5-47b5-d010-5d9970f980c5"
      },
      "outputs": [
        {
          "output_type": "stream",
          "name": "stderr",
          "text": [
            "Using custom data configuration full-029c591f5fc68f2b\n",
            "Reusing dataset ik_nlp22_pe_style (/root/.cache/huggingface/datasets/GroNLP___ik_nlp22_pe_style/full-029c591f5fc68f2b/1.0.0/3bbf0fda4806257149c2beb42c6cd20db6f79dac9ae2498f44be55fa7a953d51)\n"
          ]
        },
        {
          "output_type": "display_data",
          "data": {
            "text/plain": [
              "  0%|          | 0/1 [00:00<?, ?it/s]"
            ],
            "application/vnd.jupyter.widget-view+json": {
              "version_major": 2,
              "version_minor": 0,
              "model_id": "24ae290e999b4ea1996e655273eac7d8"
            }
          },
          "metadata": {}
        }
      ],
      "source": [
        "from datasets import load_dataset\n",
        "\n",
        "dataset = load_dataset('GroNLP/ik-nlp-22_pestyle', 'full', data_dir='/content/IK_NLP_22_PESTYLE/IK_NLP_22_PESTYLE')"
      ]
    },
    {
      "cell_type": "code",
      "source": [
        "dataset"
      ],
      "metadata": {
        "colab": {
          "base_uri": "https://localhost:8080/"
        },
        "id": "aKicq-kRyx39",
        "outputId": "3f0d6d9e-0425-42ed-fefa-7578f53a7d64"
      },
      "execution_count": 10,
      "outputs": [
        {
          "output_type": "execute_result",
          "data": {
            "text/plain": [
              "DatasetDict({\n",
              "    train: Dataset({\n",
              "        features: ['item_id', 'subject_id', 'modality', 'src_text', 'mt_text', 'tgt_text', 'edit_time', 'k_total', 'k_letter', 'k_digit', 'k_white', 'k_symbol', 'k_nav', 'k_erase', 'k_copy', 'k_cut', 'k_paste', 'n_pause_geq_300', 'len_pause_geq_300', 'n_pause_geq_1000', 'len_pause_geq_1000', 'num_annotations', 'n_insert', 'n_delete', 'n_substitute', 'n_shift', 'bleu', 'chrf', 'ter', 'aligned_edit'],\n",
              "        num_rows: 1170\n",
              "    })\n",
              "})"
            ]
          },
          "metadata": {},
          "execution_count": 10
        }
      ]
    },
    {
      "cell_type": "code",
      "source": [
        "squad_train = dataset[\"train\"].shuffle(seed=42).select(range(1000))"
      ],
      "metadata": {
        "id": "tOfXbvp7zdRZ",
        "outputId": "86efbe4d-86b8-423e-b48c-e4a933061500",
        "colab": {
          "base_uri": "https://localhost:8080/"
        }
      },
      "execution_count": 11,
      "outputs": [
        {
          "output_type": "stream",
          "name": "stderr",
          "text": [
            "Loading cached shuffled indices for dataset at /root/.cache/huggingface/datasets/GroNLP___ik_nlp22_pe_style/full-029c591f5fc68f2b/1.0.0/3bbf0fda4806257149c2beb42c6cd20db6f79dac9ae2498f44be55fa7a953d51/cache-86157dd67a21c326.arrow\n"
          ]
        }
      ]
    },
    {
      "cell_type": "code",
      "source": [
        "squad_train[:3]"
      ],
      "metadata": {
        "colab": {
          "base_uri": "https://localhost:8080/"
        },
        "id": "3otoZcqxzgkE",
        "outputId": "9083fc1e-904c-43e9-bded-21a3bc3e1f70"
      },
      "execution_count": 12,
      "outputs": [
        {
          "output_type": "execute_result",
          "data": {
            "text/plain": [
              "{'aligned_edit': [\"REF:  sebbene gli arcipelaghi costieri e i laghi ***** ***** più grandi siano effettivamente abbastanza grandi per qualsiasi yacht,        barche più piccole o persino un kayak offrono un'esperienza diversa.\\\\nHYP:  sebbene gli arcipelaghi ******** e i laghi sulla costa più grandi siano effettivamente abbastanza ampi   per qualsiasi imbarcazione, navi   più piccole o persino ** kayak offrono esperienze    singolari.\\\\nEVAL:                         D                  I     I                                                S                    S             S                            D                S             S\",\n",
              "  \"REF:  la    scienza        ora   indica     che questa massiccia economia ****** ******** del carbonio ha rimosso la    biosfera da uno dei suoi stati stabili che ha sostenuto l'evoluzione umana negli ultimi due milioni di anni.\\\\nHYP:  fonti scientifiche [ ora ] indicano @ che questa massiccia economia basata sull'uso del carbonio ha rimosso dalla biosfera ** uno dei suoi stati stabili che ha sostenuto l'evoluzione umana negli ultimi due milioni di anni.\\\\nEVAL: S     S                    S                                        I      I                                S              D\",\n",
              "  'nan'],\n",
              " 'bleu': [32.869998931884766, 65.4800033569336, nan],\n",
              " 'chrf': [70.0199966430664, 85.61000061035156, nan],\n",
              " 'edit_time': [126.44000244140625, 111.01599884033203, 39.0359992980957],\n",
              " 'item_id': [723, 1043, 393],\n",
              " 'k_copy': [1, 0, 0],\n",
              " 'k_cut': [2, 0, 0],\n",
              " 'k_digit': [0, 0, 1],\n",
              " 'k_erase': [13, 34, 10],\n",
              " 'k_letter': [77, 70, 101],\n",
              " 'k_nav': [48, 0, 0],\n",
              " 'k_paste': [1, 0, 0],\n",
              " 'k_symbol': [0, 1, 2],\n",
              " 'k_total': [146, 112, 131],\n",
              " 'k_white': [4, 7, 17],\n",
              " 'len_pause_geq_1000': [94421, 25102, 9553],\n",
              " 'len_pause_geq_300': [99233, 37697, 18435],\n",
              " 'modality': ['pe1', 'pe1', 'ht'],\n",
              " 'mt_text': [\"Sebbene gli arcipelaghi costieri e i laghi più grandi siano effettivamente abbastanza grandi per qualsiasi yacht, barche più piccole o persino un kayak offrono un'esperienza diversa.\",\n",
              "  \"La scienza ora indica che questa massiccia economia del carbonio ha rimosso la biosfera da uno dei suoi stati stabili che ha sostenuto l'evoluzione umana negli ultimi due milioni di anni.\",\n",
              "  'nan'],\n",
              " 'n_delete': [2.0, 1.0, nan],\n",
              " 'n_insert': [2.0, 2.0, nan],\n",
              " 'n_pause_geq_1000': [15, 5, 7],\n",
              " 'n_pause_geq_300': [25, 27, 25],\n",
              " 'n_shift': [0.0, 1.0, nan],\n",
              " 'n_substitute': [5.0, 4.0, nan],\n",
              " 'num_annotations': [3, 3, 1],\n",
              " 'src_text': ['Although the coastal archipelagos and the biggest lakes are indeed big enough for any yacht, smaller boats or even a kayak offer a different experience.',\n",
              "  'Science now indicates that this massive carbon economy has dislodged the biosphere from one of its stable states that has supported human evolution for the past two million years.',\n",
              "  'The first public reading of the document was by John Nixon in the yard of Independence Hall on July 8.'],\n",
              " 'subject_id': ['t3', 't2', 't1'],\n",
              " 'ter': [34.6150016784668, 25.805999755859375, nan],\n",
              " 'tgt_text': ['Sebbene gli arcipelaghi e i laghi sulla costa più grandi siano effettivamente abbastanza ampi per qualsiasi imbarcazione, navi più piccole o persino kayak offrono esperienze singolari.',\n",
              "  \"Fonti scientifiche indicano ora che questa massiccia economia basata sull'uso del carbonio ha rimosso dalla biosfera uno dei suoi stati stabili che ha sostenuto l'evoluzione umana negli ultimi due milioni di anni.\",\n",
              "  \"La prima lettura pubblica del documento fu quella di John Nixon nel cortile della Indipendence Hall l'8 luglio.\"]}"
            ]
          },
          "metadata": {},
          "execution_count": 12
        }
      ]
    },
    {
      "cell_type": "code",
      "source": [
        "total_keystrokes_t1_ht = 0\n",
        "total_keystrokes_t1_pe1 = 0\n",
        "total_keystrokes_t1_pe2 = 0\n",
        "total_keystrokes_t2_ht = 0\n",
        "total_keystrokes_t2_pe1 = 0\n",
        "total_keystrokes_t2_pe2 = 0\n",
        "total_keystrokes_t3_ht = 0\n",
        "total_keystrokes_t3_pe1 = 0\n",
        "total_keystrokes_t3_pe2 = 0\n",
        "\n",
        "total_content_keystrokes_t1_ht = 0\n",
        "total_content_keystrokes_t1_pe1 = 0\n",
        "total_content_keystrokes_t1_pe2 = 0\n",
        "total_content_keystrokes_t2_ht = 0\n",
        "total_content_keystrokes_t2_pe1 = 0\n",
        "total_content_keystrokes_t2_pe2 = 0\n",
        "total_content_keystrokes_t3_ht = 0\n",
        "total_content_keystrokes_t3_pe1 = 0\n",
        "total_content_keystrokes_t3_pe2 = 0\n",
        "\n",
        "total_erase_keystrokes_t1_ht = 0\n",
        "total_erase_keystrokes_t1_pe1 = 0\n",
        "total_erase_keystrokes_t1_pe2 = 0\n",
        "total_erase_keystrokes_t2_ht = 0\n",
        "total_erase_keystrokes_t2_pe1 = 0\n",
        "total_erase_keystrokes_t2_pe2 = 0\n",
        "total_erase_keystrokes_t3_ht = 0\n",
        "total_erase_keystrokes_t3_pe1 = 0\n",
        "total_erase_keystrokes_t3_pe2 = 0\n",
        "\n",
        "total_nav_keystrokes_t1_ht = 0\n",
        "total_nav_keystrokes_t1_pe1 = 0\n",
        "total_nav_keystrokes_t1_pe2 = 0\n",
        "total_nav_keystrokes_t2_ht = 0\n",
        "total_nav_keystrokes_t2_pe1 = 0\n",
        "total_nav_keystrokes_t2_pe2 = 0\n",
        "total_nav_keystrokes_t3_ht = 0\n",
        "total_nav_keystrokes_t3_pe1 = 0\n",
        "total_nav_keystrokes_t3_pe2 = 0\n",
        "\n",
        "for i in squad_train:\n",
        "  if(i[\"subject_id\"] == \"t1\"):\n",
        "    if(i[\"modality\"] == \"ht\"):\n",
        "      total_keystrokes_t1_ht += i[\"k_total\"]\n",
        "      total_content_keystrokes_t1_ht += i[\"k_letter\"] + i[\"k_digit\"] + i[\"k_symbol\"]\n",
        "      total_erase_keystrokes_t1_ht += i[\"k_erase\"]\n",
        "      total_nav_keystrokes_t1_ht += i[\"k_nav\"]\n",
        "    elif(i[\"modality\"] == \"pe1\"):\n",
        "      total_keystrokes_t1_pe1 += i[\"k_total\"]\n",
        "      total_content_keystrokes_t1_pe1 += i[\"k_letter\"] + i[\"k_digit\"] + i[\"k_symbol\"]\n",
        "      total_erase_keystrokes_t1_pe1 += i[\"k_erase\"]\n",
        "      total_nav_keystrokes_t1_pe1 += i[\"k_nav\"]\n",
        "    elif(i[\"modality\"] == \"pe2\"):\n",
        "      total_keystrokes_t1_pe2 += i[\"k_total\"]\n",
        "      total_content_keystrokes_t1_pe2 += i[\"k_letter\"] + i[\"k_digit\"] + i[\"k_symbol\"]\n",
        "      total_erase_keystrokes_t1_pe2 += i[\"k_erase\"]\n",
        "      total_nav_keystrokes_t1_pe2 += i[\"k_nav\"]\n",
        "  elif(i[\"subject_id\"] == \"t2\"):\n",
        "    if(i[\"modality\"] == \"ht\"):\n",
        "      total_keystrokes_t2_ht += i[\"k_total\"]\n",
        "      total_content_keystrokes_t2_ht += i[\"k_letter\"] + i[\"k_digit\"] + i[\"k_symbol\"]\n",
        "      total_erase_keystrokes_t2_ht += i[\"k_erase\"]\n",
        "      total_nav_keystrokes_t2_ht += i[\"k_nav\"]\n",
        "    elif(i[\"modality\"] == \"pe1\"):\n",
        "      total_keystrokes_t2_pe1 += i[\"k_total\"]\n",
        "      total_content_keystrokes_t2_pe1 += i[\"k_letter\"] + i[\"k_digit\"] + i[\"k_symbol\"]\n",
        "      total_erase_keystrokes_t2_pe1 += i[\"k_erase\"]\n",
        "      total_nav_keystrokes_t2_pe1 += i[\"k_nav\"]\n",
        "    elif(i[\"modality\"] == \"pe2\"):\n",
        "      total_keystrokes_t2_pe2 += i[\"k_total\"]\n",
        "      total_content_keystrokes_t2_pe2 += i[\"k_letter\"] + i[\"k_digit\"] + i[\"k_symbol\"]\n",
        "      total_erase_keystrokes_t2_pe2 += i[\"k_erase\"]\n",
        "      total_nav_keystrokes_t2_pe2 += i[\"k_nav\"]\n",
        "  elif(i[\"subject_id\"] == \"t3\"):\n",
        "    if(i[\"modality\"] == \"ht\"):\n",
        "      total_keystrokes_t3_ht += i[\"k_total\"]\n",
        "      total_content_keystrokes_t3_ht += i[\"k_letter\"] + i[\"k_digit\"] + i[\"k_symbol\"]\n",
        "      total_erase_keystrokes_t3_ht += i[\"k_erase\"]\n",
        "      total_nav_keystrokes_t3_ht += i[\"k_nav\"]\n",
        "    elif(i[\"modality\"] == \"pe1\"):\n",
        "      total_keystrokes_t3_pe1 += i[\"k_total\"]\n",
        "      total_content_keystrokes_t3_pe1 += i[\"k_letter\"] + i[\"k_digit\"] + i[\"k_symbol\"]\n",
        "      total_erase_keystrokes_t3_pe1 += i[\"k_erase\"]\n",
        "      total_nav_keystrokes_t3_pe1 += i[\"k_nav\"]\n",
        "    elif(i[\"modality\"] == \"pe2\"):\n",
        "      total_keystrokes_t3_pe2 += i[\"k_total\"]\n",
        "      total_content_keystrokes_t3_pe2 += i[\"k_letter\"] + i[\"k_digit\"] + i[\"k_symbol\"]\n",
        "      total_erase_keystrokes_t3_pe2 += i[\"k_erase\"]\n",
        "      total_nav_keystrokes_t3_pe2 += i[\"k_nav\"]\n",
        "\n",
        "print(total_keystrokes_t3_ht)"
      ],
      "metadata": {
        "colab": {
          "base_uri": "https://localhost:8080/"
        },
        "id": "pQ8iKC4a-H6f",
        "outputId": "2f67b681-bd77-4e9b-da30-47282f16026d"
      },
      "execution_count": 13,
      "outputs": [
        {
          "output_type": "stream",
          "name": "stdout",
          "text": [
            "29038\n"
          ]
        }
      ]
    },
    {
      "cell_type": "code",
      "source": [
        "import numpy as np\n",
        "import matplotlib.pyplot as plt\n",
        " \n",
        "# set width of bar\n",
        "barWidth = 0.25\n",
        "fig = plt.subplots(figsize =(12, 8))\n",
        " \n",
        "# set height of bar\n",
        "HT = [total_keystrokes_t1_ht, total_keystrokes_t2_ht, total_keystrokes_t3_ht]\n",
        "PE1 = [total_keystrokes_t1_pe1, total_keystrokes_t2_pe1, total_keystrokes_t3_pe1]\n",
        "PE2 = [total_keystrokes_t1_pe2, total_keystrokes_t2_pe2, total_keystrokes_t3_pe2]\n",
        " \n",
        "# Set position of bar on X axis\n",
        "br1 = np.arange(len(HT))\n",
        "br2 = [x + barWidth for x in br1]\n",
        "br3 = [x + barWidth for x in br2]\n",
        " \n",
        "# Make the plot\n",
        "plt.bar(br1, HT, color ='r', width = barWidth,\n",
        "        edgecolor ='grey', label ='HT')\n",
        "plt.bar(br2, PE1, color ='g', width = barWidth,\n",
        "        edgecolor ='grey', label ='PE1')\n",
        "plt.bar(br3, PE2, color ='b', width = barWidth,\n",
        "        edgecolor ='grey', label ='PE2')\n",
        " \n",
        "# Adding Xticks\n",
        "plt.xlabel('Translator', fontweight ='bold', fontsize = 15)\n",
        "plt.title(\"Total keystrokes by Translators per modality\")\n",
        "plt.ylabel('Number of keystrokes per modality', fontweight ='bold', fontsize = 15)\n",
        "plt.xticks([r + barWidth for r in range(len(HT))],\n",
        "        ['T1', 'T2', 'T3'])\n",
        " \n",
        "plt.legend()\n",
        "plt.show()"
      ],
      "metadata": {
        "id": "sghXzcEYBqwg",
        "outputId": "36a60025-9946-47ee-c3fa-4abab028168c",
        "colab": {
          "base_uri": "https://localhost:8080/",
          "height": 518
        }
      },
      "execution_count": 14,
      "outputs": [
        {
          "output_type": "display_data",
          "data": {
            "text/plain": [
              "<Figure size 864x576 with 1 Axes>"
            ],
            "image/png": "[encoded data removed]"
          },
          "metadata": {
            "needs_background": "light"
          }
        }
      ]
    },
    {
      "cell_type": "code",
      "source": [
        "# set width of bar\n",
        "barWidth = 0.25\n",
        "fig = plt.subplots(figsize =(12, 8))\n",
        " \n",
        "# set height of bar\n",
        "CONTENT = [total_content_keystrokes_t1_ht, total_content_keystrokes_t2_ht, total_content_keystrokes_t3_ht]\n",
        "ERASE = [total_erase_keystrokes_t1_ht, total_erase_keystrokes_t2_ht, total_erase_keystrokes_t3_ht]\n",
        "NAV = [total_nav_keystrokes_t1_ht, total_nav_keystrokes_t2_ht, total_nav_keystrokes_t3_ht]\n",
        " \n",
        "# Set position of bar on X axis\n",
        "br1 = np.arange(len(CONTENT))\n",
        "br2 = [x + barWidth for x in br1]\n",
        "br3 = [x + barWidth for x in br2]\n",
        " \n",
        "# Make the plot\n",
        "plt.bar(br1, CONTENT, color ='C1', width = barWidth,\n",
        "        edgecolor ='grey', label ='CONTENT')\n",
        "plt.bar(br2, ERASE, color ='C2', width = barWidth,\n",
        "        edgecolor ='grey', label ='ERASE')\n",
        "plt.bar(br3, NAV, color ='C3', width = barWidth,\n",
        "        edgecolor ='grey', label ='NAV')\n",
        " \n",
        "# Adding Xticks\n",
        "plt.xlabel('Translator', fontweight ='bold', fontsize = 15)\n",
        "plt.title(\"Total types of keystrokes by Translators for HT modality\")\n",
        "plt.ylabel('Number of keystrokes per translator for HT', fontweight ='bold', fontsize = 15)\n",
        "plt.xticks([r + barWidth for r in range(len(CONTENT))],\n",
        "        ['T1', 'T2', 'T3'])\n",
        " \n",
        "plt.legend()\n",
        "plt.show()"
      ],
      "metadata": {
        "id": "4aR10t-4QS6j",
        "outputId": "f1bbfd0e-fbe9-499e-d40b-1261e35dd567",
        "colab": {
          "base_uri": "https://localhost:8080/",
          "height": 518
        }
      },
      "execution_count": 15,
      "outputs": [
        {
          "output_type": "display_data",
          "data": {
            "text/plain": [
              "<Figure size 864x576 with 1 Axes>"
            ],
            "image/png": "[encoded data removed]"
          },
          "metadata": {
            "needs_background": "light"
          }
        }
      ]
    },
    {
      "cell_type": "code",
      "source": [
        "\n",
        "\n",
        "# set width of bar\n",
        "barWidth = 0.25\n",
        "fig = plt.subplots(figsize =(12, 8))\n",
        " \n",
        "# set height of bar\n",
        "CONTENT_1 = [total_content_keystrokes_t1_pe1, total_content_keystrokes_t2_pe1, total_content_keystrokes_t3_pe1]\n",
        "ERASE_1 = [total_erase_keystrokes_t1_pe1, total_erase_keystrokes_t2_pe1, total_erase_keystrokes_t3_pe1]\n",
        "NAV_1 = [total_nav_keystrokes_t1_pe1, total_nav_keystrokes_t2_pe1, total_nav_keystrokes_t3_pe1]\n",
        " \n",
        "# Set position of bar on X axis\n",
        "br1 = np.arange(len(CONTENT_1))\n",
        "br2 = [x + barWidth for x in br1]\n",
        "br3 = [x + barWidth for x in br2]\n",
        " \n",
        "# Make the plot\n",
        "plt.bar(br1, CONTENT_1, color ='C1', width = barWidth,\n",
        "        edgecolor ='grey', label ='CONTENT')\n",
        "plt.bar(br2, ERASE_1, color ='C2', width = barWidth,\n",
        "        edgecolor ='grey', label ='ERASE')\n",
        "plt.bar(br3, NAV_1, color ='C3', width = barWidth,\n",
        "        edgecolor ='grey', label ='NAV')\n",
        " \n",
        "# Adding Xticks\n",
        "plt.xlabel('Translator', fontweight ='bold', fontsize = 15)\n",
        "plt.title(\"Total types of keystrokes by Translators for PE1 modality\")\n",
        "plt.ylabel('Number of keystrokes per translator for pe1', fontweight ='bold', fontsize = 15)\n",
        "plt.xticks([r + barWidth for r in range(len(CONTENT_1))],\n",
        "        ['T1', 'T2', 'T3'])\n",
        " \n",
        "plt.legend()\n",
        "plt.show()"
      ],
      "metadata": {
        "id": "76HnhDK2SYTr",
        "outputId": "2418beef-3ec0-4cd7-ed39-32600c000809",
        "colab": {
          "base_uri": "https://localhost:8080/",
          "height": 518
        }
      },
      "execution_count": 16,
      "outputs": [
        {
          "output_type": "display_data",
          "data": {
            "text/plain": [
              "<Figure size 864x576 with 1 Axes>"
            ],
            "image/png": "[encoded data removed]"
          },
          "metadata": {
            "needs_background": "light"
          }
        }
      ]
    },
    {
      "cell_type": "code",
      "source": [
        "# set width of bar\n",
        "barWidth = 0.25\n",
        "fig = plt.subplots(figsize =(12, 8))\n",
        " \n",
        "# set height of bar\n",
        "CONTENT_2 = [total_content_keystrokes_t1_pe2, total_content_keystrokes_t2_pe2, total_content_keystrokes_t3_pe2]\n",
        "ERASE_2 = [total_erase_keystrokes_t1_pe2, total_erase_keystrokes_t2_pe2, total_erase_keystrokes_t3_pe2]\n",
        "NAV_2 = [total_nav_keystrokes_t1_pe2, total_nav_keystrokes_t2_pe2, total_nav_keystrokes_t3_pe2]\n",
        " \n",
        "# Set position of bar on X axis\n",
        "br1 = np.arange(len(CONTENT_2))\n",
        "br2 = [x + barWidth for x in br1]\n",
        "br3 = [x + barWidth for x in br2]\n",
        " \n",
        "# Make the plot\n",
        "plt.bar(br1, CONTENT_2, color ='C1', width = barWidth,\n",
        "        edgecolor ='grey', label ='CONTENT')\n",
        "plt.bar(br2, ERASE_2, color ='C2', width = barWidth,\n",
        "        edgecolor ='grey', label ='ERASE')\n",
        "plt.bar(br3, NAV_2, color ='C3', width = barWidth,\n",
        "        edgecolor ='grey', label ='NAV')\n",
        " \n",
        "# Adding Xticks\n",
        "plt.xlabel('Translator', fontweight ='bold', fontsize = 15)\n",
        "plt.title(\"Total types of keystrokes by Translators for PE2 modality\")\n",
        "plt.ylabel('Number of keystrokes per translator for pe2', fontweight ='bold', fontsize = 15)\n",
        "plt.xticks([r + barWidth for r in range(len(CONTENT_2))],\n",
        "        ['T1', 'T2', 'T3'])\n",
        " \n",
        "plt.legend()\n",
        "plt.show()"
      ],
      "metadata": {
        "id": "O0FKQoXcTnp5",
        "outputId": "56924d0e-33a3-474c-da2b-af5ab8c0d480",
        "colab": {
          "base_uri": "https://localhost:8080/",
          "height": 518
        }
      },
      "execution_count": 17,
      "outputs": [
        {
          "output_type": "display_data",
          "data": {
            "text/plain": [
              "<Figure size 864x576 with 1 Axes>"
            ],
            "image/png": "[encoded data removed]"
          },
          "metadata": {
            "needs_background": "light"
          }
        }
      ]
    }
  ]
}